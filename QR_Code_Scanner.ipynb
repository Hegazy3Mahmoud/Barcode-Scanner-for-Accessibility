{
  "cells": [
    {
      "cell_type": "markdown",
      "id": "a89475bf",
      "metadata": {
        "id": "a89475bf"
      },
      "source": [
        "# QR Code Scanner with API Integration and Local Data\n"
      ]
    },
    {
      "cell_type": "markdown",
      "source": [
        "### 1. Importing Libraries"
      ],
      "metadata": {
        "id": "g5Zkzf2grj9o"
      },
      "id": "g5Zkzf2grj9o"
    },
    {
      "cell_type": "code",
      "execution_count": null,
      "id": "c9584335",
      "metadata": {
        "id": "c9584335"
      },
      "outputs": [],
      "source": [
        "import cv2\n",
        "import requests\n",
        "from pyzbar.pyzbar import decode\n",
        "import pyttsx3\n",
        "import pandas as pd\n",
        "import csv"
      ]
    },
    {
      "cell_type": "markdown",
      "source": [
        "### 2. Defining API Functions"
      ],
      "metadata": {
        "id": "mCNazxJRrqpc"
      },
      "id": "mCNazxJRrqpc"
    },
    {
      "cell_type": "code",
      "source": [
        "def send_to_api(code):\n",
        "    url = f\"https://802b-197-53-109-195.ngrok-free.app/api/Product/{code}\"\n",
        "    response = requests.get(url)\n",
        "    return response\n",
        "\n",
        "def decode_qr_code(image):\n",
        "    gray = cv2.cvtColor(image, cv2.COLOR_BGR2GRAY)\n",
        "    decoded_objects = decode(gray)\n",
        "    if decoded_objects:\n",
        "        return decoded_objects[0].data.decode('utf-8')\n",
        "    else:\n",
        "        return None\n",
        "\n",
        "def speak(text):\n",
        "    engine = pyttsx3.init()\n",
        "    rate = engine.getProperty('rate')\n",
        "    engine.setProperty('rate', rate - 45)\n",
        "    voices = engine.getProperty('voices')\n",
        "    engine.setProperty('voice', voices[1].id)\n",
        "    engine.say(text)\n",
        "    engine.runAndWait()"
      ],
      "metadata": {
        "id": "gbpmyy83rt7j"
      },
      "id": "gbpmyy83rt7j",
      "execution_count": null,
      "outputs": []
    },
    {
      "cell_type": "markdown",
      "source": [
        "### 3. Capturing and Processing QR Codes from Webcam"
      ],
      "metadata": {
        "id": "Y0pWHcpurxPP"
      },
      "id": "Y0pWHcpurxPP"
    },
    {
      "cell_type": "code",
      "source": [
        "def capture_and_process_qr():\n",
        "    voice_rate_adjusted = False\n",
        "    cap = cv2.VideoCapture(0)\n",
        "    while cap.isOpened():\n",
        "        ret, frame = cap.read()\n",
        "        if ret:\n",
        "            qr_data = decode_qr_code(frame)\n",
        "            if qr_data:\n",
        "                # Send QR code data to your API\n",
        "                response = send_to_api(qr_data)\n",
        "                if response.status_code == 200:\n",
        "                    data = response.json()\n",
        "                    # Extract product information from API response (assuming structure)\n",
        "                    product_name = data.get('product_name')\n",
        "                    description = data.get('description')\n",
        "                    price = data.get('price')\n",
        "                    currency = data.get('currency')\n",
        "                    # Construct product information text for TTS\n",
        "                    product_text = f\"Product Name: {product_name}\\nDescription: {description}\\nPrice: {price} {currency}\"\n",
        "                    # Speak the product information\n",
        "                    speak(product_text)\n",
        "                else:\n",
        "                    print(f\"Error: {response.status_code}\")\n",
        "\n",
        "            cv2.imshow('QR Code Scanner', frame)\n",
        "            if cv2.waitKey(1) & 0xFF == ord('q'):\n",
        "                break\n",
        "    cap.release()\n",
        "    cv2.destroyAllWindows()\n",
        "\n",
        "capture_and_process_qr()"
      ],
      "metadata": {
        "id": "SHYNDJZarzL_"
      },
      "id": "SHYNDJZarzL_",
      "execution_count": null,
      "outputs": []
    }
  ],
  "metadata": {
    "kernelspec": {
      "display_name": "Python 3 (ipykernel)",
      "language": "python",
      "name": "python3"
    },
    "language_info": {
      "codemirror_mode": {
        "name": "ipython",
        "version": 3
      },
      "file_extension": ".py",
      "mimetype": "text/x-python",
      "name": "python",
      "nbconvert_exporter": "python",
      "pygments_lexer": "ipython3",
      "version": "3.11.5"
    },
    "colab": {
      "provenance": []
    }
  },
  "nbformat": 4,
  "nbformat_minor": 5
}
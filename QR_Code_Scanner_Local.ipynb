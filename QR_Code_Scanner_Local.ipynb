{
  "nbformat": 4,
  "nbformat_minor": 0,
  "metadata": {
    "colab": {
      "provenance": []
    },
    "kernelspec": {
      "name": "python3",
      "display_name": "Python 3"
    },
    "language_info": {
      "name": "python"
    }
  },
  "cells": [
    {
      "cell_type": "markdown",
      "source": [
        "# QR Code Scanner with Local Data Handling"
      ],
      "metadata": {
        "id": "yvdGmjrWsPjJ"
      }
    },
    {
      "cell_type": "markdown",
      "source": [
        "### 1. Importing Libraries"
      ],
      "metadata": {
        "id": "hwItEpxusZiG"
      }
    },
    {
      "cell_type": "code",
      "execution_count": null,
      "metadata": {
        "id": "ZYqH-oeMsMwA"
      },
      "outputs": [],
      "source": [
        "import cv2\n",
        "from pyttsx3 import init\n",
        "import pandas as pd\n",
        "from statistics import mode\n",
        "from pyzbar.pyzbar import decode\n",
        "import csv"
      ]
    },
    {
      "cell_type": "markdown",
      "source": [
        "### 2. Loading Local Data"
      ],
      "metadata": {
        "id": "TVAEB2o7scUw"
      }
    },
    {
      "cell_type": "code",
      "source": [
        "# Read the CSV file and specify the data types\n",
        "df = pd.read_json('Products (1).json')\n",
        "df = df.drop(['picture_url', 'brand_id', 'category_id'], axis=1)"
      ],
      "metadata": {
        "id": "I0IJFfi9sdny"
      },
      "execution_count": null,
      "outputs": []
    },
    {
      "cell_type": "markdown",
      "source": [
        "# Initialize text-to-speech engine"
      ],
      "metadata": {
        "id": "XXglInsdspyV"
      }
    },
    {
      "cell_type": "code",
      "source": [
        "engine = init()\n",
        "rate = engine.getProperty('rate')\n",
        "engine.setProperty('rate', rate - 35)\n",
        "voices = engine.getProperty('voices')\n",
        "engine.setProperty('voice', voices[1].id)"
      ],
      "metadata": {
        "id": "gMvdMpcDsreA"
      },
      "execution_count": null,
      "outputs": []
    },
    {
      "cell_type": "markdown",
      "source": [
        "### 3. Defining Functions"
      ],
      "metadata": {
        "id": "oH-IAl0AsvDH"
      }
    },
    {
      "cell_type": "code",
      "source": [
        "def speak(text):\n",
        "    engine.say(text)\n",
        "    engine.runAndWait()\n",
        "\n",
        "def decode_qr_code(image):\n",
        "    gray = cv2.cvtColor(image, cv2.COLOR_BGR2GRAY)\n",
        "    decoded_objects = decode(gray)\n",
        "    if decoded_objects:\n",
        "        return decoded_objects[0].data.decode('utf-8')\n",
        "    else:\n",
        "        return None\n",
        "\n",
        "# ## 4. Capturing and Processing QR Codes\n",
        "\n",
        "def capture_image():\n",
        "    scanned_products = set()\n",
        "    scanned_products_file = 'scanned_products.csv'\n",
        "    detected_products = []\n",
        "    selected_products = []\n",
        "    cap = cv2.VideoCapture(0)\n",
        "    while cap.isOpened():\n",
        "        ret, frame = cap.read()\n",
        "        if ret:\n",
        "            cv2.imshow('QR Code Scanner', frame)\n",
        "            qr_data = decode_qr_code(frame)\n",
        "            if qr_data:\n",
        "                if qr_data not in selected_products:\n",
        "                    if len(detected_products) == 10:\n",
        "                        product_id = mode(detected_products)\n",
        "                        result = df[df['code'] == product_id]\n",
        "                        if not result.empty:\n",
        "                            # Extract product information\n",
        "                            product_name = result['product_name'].values[0]\n",
        "                            description = result['description'].values[0]\n",
        "                            price = result['price'].values[0]\n",
        "                            currency = result['currency'].values[0]\n",
        "                            # Construct product information text\n",
        "                            product_text = f\"Product Name: {product_name}\\nDescription: {description}\\nPrice: {price} {currency}\"\n",
        "                            # Speak the product information\n",
        "                            speak(product_text)\n",
        "                        selected_products.append(mode(detected_products))\n",
        "                        detected_products = []\n",
        "                        try:\n",
        "                            with open(scanned_products_file, 'a', newline='') as csvfile:\n",
        "                                writer = csv.writer(csvfile)\n",
        "                                writer.writerow(product_text.split('\\n'))\n",
        "                        except IOError as e:\n",
        "                            print(f\"Error saving scanned product data: {e}\")\n",
        "                        scanned_products.add(qr_data)\n",
        "                    else:\n",
        "                        detected_products.append(qr_data)\n",
        "                else:\n",
        "                    continue\n",
        "            if cv2.waitKey(1) & 0xFF == ord('q'):\n",
        "                break\n",
        "        else:\n",
        "            break\n",
        "    cap.release()\n",
        "    cv2.destroyAllWindows()\n",
        "\n",
        "capture_image()"
      ],
      "metadata": {
        "id": "MtFSGu61swTn"
      },
      "execution_count": null,
      "outputs": []
    }
  ]
}